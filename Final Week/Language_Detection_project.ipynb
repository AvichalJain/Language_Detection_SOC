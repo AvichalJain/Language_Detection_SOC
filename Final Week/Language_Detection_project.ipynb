{
  "nbformat": 4,
  "nbformat_minor": 0,
  "metadata": {
    "colab": {
      "name": "Language Detection project.ipynb",
      "provenance": []
    },
    "kernelspec": {
      "name": "python3",
      "display_name": "Python 3"
    },
    "language_info": {
      "name": "python"
    }
  },
  "cells": [
    {
      "cell_type": "code",
      "metadata": {
        "colab": {
          "base_uri": "https://localhost:8080/"
        },
        "id": "XCTujLFMIxNT",
        "outputId": "807c3f03-7491-4c8d-e26d-97b1073e046b"
      },
      "source": [
        "import pandas as pd\n",
        "import re\n",
        "import nltk\n",
        "from nltk.stem.porter import PorterStemmer\n",
        "from sklearn.metrics import accuracy_score,confusion_matrix\n",
        "!pip install easyocr\n",
        "import matplotlib.pyplot as plt\n",
        "import cv2\n",
        "import easyocr"
      ],
      "execution_count": null,
      "outputs": [
        {
          "output_type": "stream",
          "text": [
            "Requirement already satisfied: easyocr in /usr/local/lib/python3.7/dist-packages (1.3.2)\n",
            "Requirement already satisfied: python-bidi in /usr/local/lib/python3.7/dist-packages (from easyocr) (0.4.2)\n",
            "Requirement already satisfied: scikit-image in /usr/local/lib/python3.7/dist-packages (from easyocr) (0.16.2)\n",
            "Requirement already satisfied: opencv-python in /usr/local/lib/python3.7/dist-packages (from easyocr) (4.1.2.30)\n",
            "Requirement already satisfied: PyYAML in /usr/local/lib/python3.7/dist-packages (from easyocr) (3.13)\n",
            "Requirement already satisfied: numpy in /usr/local/lib/python3.7/dist-packages (from easyocr) (1.19.5)\n",
            "Requirement already satisfied: scipy in /usr/local/lib/python3.7/dist-packages (from easyocr) (1.4.1)\n",
            "Requirement already satisfied: Pillow in /usr/local/lib/python3.7/dist-packages (from easyocr) (7.1.2)\n",
            "Requirement already satisfied: torch in /usr/local/lib/python3.7/dist-packages (from easyocr) (1.9.0+cu102)\n",
            "Requirement already satisfied: torchvision>=0.5 in /usr/local/lib/python3.7/dist-packages (from easyocr) (0.10.0+cu102)\n",
            "Requirement already satisfied: six in /usr/local/lib/python3.7/dist-packages (from python-bidi->easyocr) (1.15.0)\n",
            "Requirement already satisfied: imageio>=2.3.0 in /usr/local/lib/python3.7/dist-packages (from scikit-image->easyocr) (2.4.1)\n",
            "Requirement already satisfied: networkx>=2.0 in /usr/local/lib/python3.7/dist-packages (from scikit-image->easyocr) (2.5.1)\n",
            "Requirement already satisfied: PyWavelets>=0.4.0 in /usr/local/lib/python3.7/dist-packages (from scikit-image->easyocr) (1.1.1)\n",
            "Requirement already satisfied: matplotlib!=3.0.0,>=2.0.0 in /usr/local/lib/python3.7/dist-packages (from scikit-image->easyocr) (3.2.2)\n",
            "Requirement already satisfied: typing-extensions in /usr/local/lib/python3.7/dist-packages (from torch->easyocr) (3.7.4.3)\n",
            "Requirement already satisfied: decorator<5,>=4.3 in /usr/local/lib/python3.7/dist-packages (from networkx>=2.0->scikit-image->easyocr) (4.4.2)\n",
            "Requirement already satisfied: kiwisolver>=1.0.1 in /usr/local/lib/python3.7/dist-packages (from matplotlib!=3.0.0,>=2.0.0->scikit-image->easyocr) (1.3.1)\n",
            "Requirement already satisfied: pyparsing!=2.0.4,!=2.1.2,!=2.1.6,>=2.0.1 in /usr/local/lib/python3.7/dist-packages (from matplotlib!=3.0.0,>=2.0.0->scikit-image->easyocr) (2.4.7)\n",
            "Requirement already satisfied: cycler>=0.10 in /usr/local/lib/python3.7/dist-packages (from matplotlib!=3.0.0,>=2.0.0->scikit-image->easyocr) (0.10.0)\n",
            "Requirement already satisfied: python-dateutil>=2.1 in /usr/local/lib/python3.7/dist-packages (from matplotlib!=3.0.0,>=2.0.0->scikit-image->easyocr) (2.8.1)\n"
          ],
          "name": "stdout"
        }
      ]
    },
    {
      "cell_type": "code",
      "metadata": {
        "colab": {
          "base_uri": "https://localhost:8080/",
          "height": 204
        },
        "id": "QccHMBIFI9w7",
        "outputId": "71084b39-f66f-42eb-9f27-848067437324"
      },
      "source": [
        "\n",
        "data_set=pd.read_csv('/content/dataset.csv')\n",
        "data_set.head()"
      ],
      "execution_count": null,
      "outputs": [
        {
          "output_type": "execute_result",
          "data": {
            "text/html": [
              "<div>\n",
              "<style scoped>\n",
              "    .dataframe tbody tr th:only-of-type {\n",
              "        vertical-align: middle;\n",
              "    }\n",
              "\n",
              "    .dataframe tbody tr th {\n",
              "        vertical-align: top;\n",
              "    }\n",
              "\n",
              "    .dataframe thead th {\n",
              "        text-align: right;\n",
              "    }\n",
              "</style>\n",
              "<table border=\"1\" class=\"dataframe\">\n",
              "  <thead>\n",
              "    <tr style=\"text-align: right;\">\n",
              "      <th></th>\n",
              "      <th>Unnamed: 0</th>\n",
              "      <th>languages</th>\n",
              "      <th>language_type</th>\n",
              "      <th>label</th>\n",
              "    </tr>\n",
              "  </thead>\n",
              "  <tbody>\n",
              "    <tr>\n",
              "      <th>0</th>\n",
              "      <td>0</td>\n",
              "      <td>These questions are easy to answer.</td>\n",
              "      <td>english</td>\n",
              "      <td>0</td>\n",
              "    </tr>\n",
              "    <tr>\n",
              "      <th>1</th>\n",
              "      <td>1</td>\n",
              "      <td>They are proud of their clever son.</td>\n",
              "      <td>english</td>\n",
              "      <td>0</td>\n",
              "    </tr>\n",
              "    <tr>\n",
              "      <th>2</th>\n",
              "      <td>2</td>\n",
              "      <td>They brought trouble on themselves.</td>\n",
              "      <td>english</td>\n",
              "      <td>0</td>\n",
              "    </tr>\n",
              "    <tr>\n",
              "      <th>3</th>\n",
              "      <td>3</td>\n",
              "      <td>This is a good newspaper, isn't it?</td>\n",
              "      <td>english</td>\n",
              "      <td>0</td>\n",
              "    </tr>\n",
              "    <tr>\n",
              "      <th>4</th>\n",
              "      <td>4</td>\n",
              "      <td>To make matters worse, he fell ill.</td>\n",
              "      <td>english</td>\n",
              "      <td>0</td>\n",
              "    </tr>\n",
              "  </tbody>\n",
              "</table>\n",
              "</div>"
            ],
            "text/plain": [
              "   Unnamed: 0                            languages language_type  label \n",
              "0           0  These questions are easy to answer.       english       0\n",
              "1           1  They are proud of their clever son.       english       0\n",
              "2           2  They brought trouble on themselves.       english       0\n",
              "3           3  This is a good newspaper, isn't it?       english       0\n",
              "4           4  To make matters worse, he fell ill.       english       0"
            ]
          },
          "metadata": {
            "tags": []
          },
          "execution_count": 4
        }
      ]
    },
    {
      "cell_type": "code",
      "metadata": {
        "id": "WkgwJ2Z0JXh6"
      },
      "source": [
        "#creating a fuction to clean and stem text \n",
        "\n",
        "\n",
        "def text_cleaner(sentence):\n",
        "  ps = PorterStemmer()\n",
        "  sentence = re.sub('[^a-zA-Z]', ' ', sentence)\n",
        "  sentence = sentence.lower()\n",
        "  sentence = sentence.split()\n",
        "  sentence = [ps.stem(word) for word in sentence ]\n",
        "  sentence = ' '.join(sentence)\n",
        "  return sentence"
      ],
      "execution_count": null,
      "outputs": []
    },
    {
      "cell_type": "code",
      "metadata": {
        "colab": {
          "base_uri": "https://localhost:8080/"
        },
        "id": "t_laUOfhJdF8",
        "outputId": "7ef8cb87-096e-493c-8d07-73e23ca695ef"
      },
      "source": [
        "#Cleaning the text and stemming the words using nltk library\n",
        "\n",
        "ps = PorterStemmer()\n",
        "for i in range(0, len(data_set)):\n",
        "  data_set['languages'][i]=text_cleaner(data_set['languages'][i])"
      ],
      "execution_count": null,
      "outputs": [
        {
          "output_type": "stream",
          "text": [
            "/usr/local/lib/python3.7/dist-packages/ipykernel_launcher.py:5: SettingWithCopyWarning: \n",
            "A value is trying to be set on a copy of a slice from a DataFrame\n",
            "\n",
            "See the caveats in the documentation: https://pandas.pydata.org/pandas-docs/stable/user_guide/indexing.html#returning-a-view-versus-a-copy\n",
            "  \"\"\"\n"
          ],
          "name": "stderr"
        }
      ]
    },
    {
      "cell_type": "code",
      "metadata": {
        "id": "eqlk06R8JnRF"
      },
      "source": [
        "# shuffling the Data Set rows \n",
        "\n",
        "data_shuffled = data_set.sample(frac = 1)"
      ],
      "execution_count": null,
      "outputs": []
    },
    {
      "cell_type": "code",
      "metadata": {
        "id": "XUQjSxeLJot2"
      },
      "source": [
        "#creating sample input and sample output for the model\n",
        "\n",
        "x_sample=data_shuffled['languages']\n",
        "y_sample=data_shuffled['label ']"
      ],
      "execution_count": null,
      "outputs": []
    },
    {
      "cell_type": "code",
      "metadata": {
        "id": "mo9Bp1-2JsW8"
      },
      "source": [
        "#Creating the sample and test cases\n",
        "\n",
        "from sklearn.model_selection import train_test_split\n",
        "x_train,x_test,y_train,y_test=train_test_split(x_sample,y_sample,test_size=1,random_state=0)"
      ],
      "execution_count": null,
      "outputs": []
    },
    {
      "cell_type": "code",
      "metadata": {
        "id": "AGRzpF2sJvn1"
      },
      "source": [
        "#converting the cases into vectors\n",
        "\n",
        "from sklearn.feature_extraction.text import CountVectorizer,TfidfVectorizer\n",
        "cv=CountVectorizer(5000)\n",
        "x_trained=cv.fit_transform(x_train).toarray()\n",
        "x_tested=cv.transform(x_test).toarray()"
      ],
      "execution_count": null,
      "outputs": []
    },
    {
      "cell_type": "code",
      "metadata": {
        "id": "0w48z1VQJy2g"
      },
      "source": [
        "#creating the model\n",
        "\n",
        "from sklearn.naive_bayes import MultinomialNB\n",
        "language_detector = MultinomialNB().fit(x_trained, y_train)"
      ],
      "execution_count": null,
      "outputs": []
    },
    {
      "cell_type": "code",
      "metadata": {
        "colab": {
          "base_uri": "https://localhost:8080/"
        },
        "id": "pyREnmqLJ1kX",
        "outputId": "fea46c15-51d6-4bb6-fb40-050303de979f"
      },
      "source": [
        "#checking the accuracy score of the model\n",
        "\n",
        "y_predicted=language_detector.predict(x_tested)\n",
        "\n",
        "print('accuracy of the model is {}'.format(accuracy_score(y_test,y_predicted)))\n",
        "print('Confusion matrix of the model is {}'.format(confusion_matrix(y_test,y_predicted)))"
      ],
      "execution_count": null,
      "outputs": [
        {
          "output_type": "stream",
          "text": [
            "accuracy of the model is 1.0\n",
            "Confusion matrix of the model is [[1]]\n"
          ],
          "name": "stdout"
        }
      ]
    },
    {
      "cell_type": "code",
      "metadata": {
        "colab": {
          "base_uri": "https://localhost:8080/"
        },
        "id": "FQlI29ztJ-df",
        "outputId": "6189a6df-b4f9-47d5-84fc-ed1810a162cf"
      },
      "source": [
        "#testing the model\n",
        "\n",
        "\n",
        "text=['शब्दों का ऐसा समूह जिससे पूर्ण भाव व्यक्त हो',\n",
        "      'Je suis américain.',\n",
        "      'a pack of cards']\n",
        "\n",
        "for text_sample in text:\n",
        "  text_cleaner(text_sample)\n",
        "  vector=cv.transform([text_sample]).toarray()\n",
        "  prediction=language_detector.predict(vector)\n",
        "  \n",
        "\n",
        "  if prediction[0]==0:\n",
        "      print('English')\n",
        "  elif prediction[0]==1:\n",
        "      print('Hindi')\n",
        "\n",
        "  else:\n",
        "      print('french')"
      ],
      "execution_count": null,
      "outputs": [
        {
          "output_type": "stream",
          "text": [
            "Hindi\n",
            "french\n",
            "English\n"
          ],
          "name": "stdout"
        }
      ]
    },
    {
      "cell_type": "code",
      "metadata": {
        "id": "W1oKKhv-KELi"
      },
      "source": [
        "#extracting text from images and detecting its language\n",
        "\n",
        "\n",
        "def prediction_from_image(input):\n",
        "    \n",
        "    reader = easyocr.Reader(['en'])\n",
        "    \n",
        "    output = reader.readtext(input,detail=0)\n",
        "\n",
        "    sentence=' '.join(output)\n",
        "\n",
        "    text_cleaner(sentence)\n",
        "\n",
        "    vector=cv.transform([sentence]).toarray()\n",
        "\n",
        "    prediction=language_detector.predict(vector)\n",
        "\n",
        "    if prediction[0]==0:\n",
        "     print('English')\n",
        "    elif prediction[0]==1:\n",
        "      print('Hindi')\n",
        "    else:\n",
        "      print('French')\n",
        "    return"
      ],
      "execution_count": null,
      "outputs": []
    },
    {
      "cell_type": "code",
      "metadata": {
        "colab": {
          "base_uri": "https://localhost:8080/"
        },
        "id": "S-AR_EkGKF6L",
        "outputId": "a14e5e2f-53d8-4670-95b0-20b21cfedff1"
      },
      "source": [
        "\n",
        "prediction_from_image('/content/English.png')"
      ],
      "execution_count": null,
      "outputs": [
        {
          "output_type": "stream",
          "text": [
            "CUDA not available - defaulting to CPU. Note: This module is much faster with a GPU.\n",
            "Downloading detection model, please wait. This may take several minutes depending upon your network connection.\n"
          ],
          "name": "stderr"
        },
        {
          "output_type": "stream",
          "text": [
            ""
          ],
          "name": "stdout"
        },
        {
          "output_type": "stream",
          "text": [
            "Downloading recognition model, please wait. This may take several minutes depending upon your network connection.\n"
          ],
          "name": "stderr"
        },
        {
          "output_type": "stream",
          "text": [
            ""
          ],
          "name": "stdout"
        },
        {
          "output_type": "stream",
          "text": [
            "/usr/local/lib/python3.7/dist-packages/torch/nn/functional.py:718: UserWarning: Named tensors and all their associated APIs are an experimental feature and subject to change. Please do not use them for anything important until they are released as stable. (Triggered internally at  /pytorch/c10/core/TensorImpl.h:1156.)\n",
            "  return torch.max_pool2d(input, kernel_size, stride, padding, dilation, ceil_mode)\n"
          ],
          "name": "stderr"
        },
        {
          "output_type": "stream",
          "text": [
            "English\n"
          ],
          "name": "stdout"
        }
      ]
    },
    {
      "cell_type": "code",
      "metadata": {
        "colab": {
          "base_uri": "https://localhost:8080/"
        },
        "id": "oIJYDrG0MHfk",
        "outputId": "2dbb33f4-4e1e-43a2-849a-af2423dc55f2"
      },
      "source": [
        "prediction_from_image('/content/Hindi.jpg')"
      ],
      "execution_count": null,
      "outputs": [
        {
          "output_type": "stream",
          "text": [
            "CUDA not available - defaulting to CPU. Note: This module is much faster with a GPU.\n"
          ],
          "name": "stderr"
        },
        {
          "output_type": "stream",
          "text": [
            "Hindi\n"
          ],
          "name": "stdout"
        }
      ]
    },
    {
      "cell_type": "code",
      "metadata": {
        "colab": {
          "base_uri": "https://localhost:8080/"
        },
        "id": "gC8iQd5jMOib",
        "outputId": "14113d87-28a7-45b2-c16a-31cb547b1e4b"
      },
      "source": [
        "prediction_from_image('/content/French.jpg')"
      ],
      "execution_count": null,
      "outputs": [
        {
          "output_type": "stream",
          "text": [
            "CUDA not available - defaulting to CPU. Note: This module is much faster with a GPU.\n"
          ],
          "name": "stderr"
        },
        {
          "output_type": "stream",
          "text": [
            "French\n"
          ],
          "name": "stdout"
        }
      ]
    }
  ]
}