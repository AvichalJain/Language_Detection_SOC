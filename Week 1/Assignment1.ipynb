{
  "nbformat": 4,
  "nbformat_minor": 0,
  "metadata": {
    "colab": {
      "name": "Assignment1.ipynb",
      "provenance": [],
      "collapsed_sections": []
    },
    "kernelspec": {
      "name": "python3",
      "display_name": "Python 3"
    },
    "language_info": {
      "name": "python"
    }
  },
  "cells": [
    {
      "cell_type": "code",
      "metadata": {
        "colab": {
          "base_uri": "https://localhost:8080/"
        },
        "id": "1bSkFHFvKARm",
        "outputId": "67821e21-e52a-4f95-afe9-9d371d22fc97"
      },
      "source": [
        "def calculate_sum(N):\n",
        "   sum_digits = None\n",
        "   while(N!=0):\n",
        "         sum_digits = sum_digits + N%10\n",
        "         N=N//10\n",
        "   return sum_digits\n",
        "print(calculate_sum(1234567))\n",
        "print(calculate_sum(9900))\n",
        "    "
      ],
      "execution_count": null,
      "outputs": [
        {
          "output_type": "stream",
          "text": [
            "28\n",
            "18\n"
          ],
          "name": "stdout"
        }
      ]
    },
    {
      "cell_type": "code",
      "metadata": {
        "colab": {
          "base_uri": "https://localhost:8080/"
        },
        "id": "O9FvsamaRNHb",
        "outputId": "d5b218ab-e98b-4cfb-b21c-6e0cde102afc"
      },
      "source": [
        "def is_ready(N, Weapons):\n",
        "     even=0\n",
        "     odd=0\n",
        "     for i in range(0,N):\n",
        "         if(Weapons[i]%2==0):\n",
        "             even+=1\n",
        "         else:\n",
        "             odd+=1\n",
        "     if(even>odd):\n",
        "          print('READY FOR BATTLE')\n",
        "     else:\n",
        "          print('NOT READY')\n",
        "is_ready(6, [1, 2, 3, 4, 5, 6])\n",
        "is_ready(4, [20, 24, 25, 228])\n"
      ],
      "execution_count": null,
      "outputs": [
        {
          "output_type": "stream",
          "text": [
            "NOT READY\n",
            "READY FOR BATTLE\n"
          ],
          "name": "stdout"
        }
      ]
    },
    {
      "cell_type": "code",
      "metadata": {
        "colab": {
          "base_uri": "https://localhost:8080/"
        },
        "id": "CJnTxKd3gMO9",
        "outputId": "52e9da4c-4065-4863-df71-1c333dc08be5"
      },
      "source": [
        "def social_dist(N, queue):\n",
        "    final=True\n",
        "    for i in queue:\n",
        "        if((queue[i])==1):\n",
        "             for j in range(int(i)+1,int(i)+6):\n",
        "                if(j<=N):\n",
        "                   if((queue[str(j)])==0): \n",
        "                       final=True\n",
        "                   else:\n",
        "                       final=False\n",
        "    if(final):\n",
        "       print('Yes')\n",
        "    else:\n",
        "       print('No')\n",
        "queue1 = {'1':1, '2':0, '3':0, '4':0, '5':1}\n",
        "social_dist(5, queue1)\n",
        "\n",
        "queue2 = {'1':0, '2':0, '3':1, '4':0, '5':0, '6':0, '7':0, '8':0, '9':1, '10':0}\n",
        "social_dist(10, queue2)"
      ],
      "execution_count": null,
      "outputs": [
        {
          "output_type": "stream",
          "text": [
            "No\n",
            "Yes\n"
          ],
          "name": "stdout"
        }
      ]
    }
  ]
}