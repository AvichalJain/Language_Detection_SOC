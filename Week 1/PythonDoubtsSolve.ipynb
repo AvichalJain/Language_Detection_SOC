{
  "nbformat": 4,
  "nbformat_minor": 0,
  "metadata": {
    "colab": {
      "name": "PythonDoubtsSolve.ipynb",
      "provenance": [],
      "collapsed_sections": []
    },
    "kernelspec": {
      "name": "python3",
      "display_name": "Python 3"
    },
    "language_info": {
      "name": "python"
    }
  },
  "cells": [
    {
      "cell_type": "code",
      "metadata": {
        "colab": {
          "base_uri": "https://localhost:8080/"
        },
        "id": "UhoJcqYhOcvA",
        "outputId": "3534c353-24ad-485a-d926-502e60e9bd3a"
      },
      "source": [
        "age=18\n",
        "print(age)"
      ],
      "execution_count": null,
      "outputs": [
        {
          "output_type": "stream",
          "text": [
            "18\n"
          ],
          "name": "stdout"
        }
      ]
    },
    {
      "cell_type": "code",
      "metadata": {
        "id": "CzK71V7ADxuV"
      },
      "source": [
        ""
      ],
      "execution_count": null,
      "outputs": []
    },
    {
      "cell_type": "code",
      "metadata": {
        "id": "5dpkkCZ59uWv"
      },
      "source": [
        ""
      ],
      "execution_count": null,
      "outputs": []
    },
    {
      "cell_type": "code",
      "metadata": {
        "colab": {
          "base_uri": "https://localhost:8080/"
        },
        "id": "Y1nDJFbTYFSz",
        "outputId": "a526dbeb-dbfa-4377-a52a-d97892da505b"
      },
      "source": [
        "name=\"Avichal Jain\"\n",
        "Rollno = 200020035\n",
        "print (name + \" \" , Rollno) "
      ],
      "execution_count": null,
      "outputs": [
        {
          "output_type": "stream",
          "text": [
            "Avichal Jain  200020035\n"
          ],
          "name": "stdout"
        }
      ]
    },
    {
      "cell_type": "code",
      "metadata": {
        "colab": {
          "base_uri": "https://localhost:8080/"
        },
        "id": "cLgG2u3mZgNL",
        "outputId": "4697f371-311f-4333-f94d-50edabeaa5be"
      },
      "source": [
        "name = input()\n",
        "print ('Hello,' , name)"
      ],
      "execution_count": null,
      "outputs": [
        {
          "output_type": "stream",
          "text": [
            "Avichal\n",
            "Hello, Avichal\n"
          ],
          "name": "stdout"
        }
      ]
    },
    {
      "cell_type": "code",
      "metadata": {
        "colab": {
          "base_uri": "https://localhost:8080/"
        },
        "id": "kJ6VwPXta3ou",
        "outputId": "dbac9b0b-a241-46b8-930e-68c180109988"
      },
      "source": [
        "num1=2\n",
        "num2=6\n",
        "print (num2/num1)"
      ],
      "execution_count": null,
      "outputs": [
        {
          "output_type": "stream",
          "text": [
            "3.0\n"
          ],
          "name": "stdout"
        }
      ]
    },
    {
      "cell_type": "code",
      "metadata": {
        "colab": {
          "base_uri": "https://localhost:8080/"
        },
        "id": "X9hLfoaSbRK_",
        "outputId": "fbdb507d-b486-410d-f300-00b8be19d37e"
      },
      "source": [
        "num1=2\n",
        "num2=7\n",
        "print (num2//num1)\n"
      ],
      "execution_count": null,
      "outputs": [
        {
          "output_type": "stream",
          "text": [
            "3\n"
          ],
          "name": "stdout"
        }
      ]
    },
    {
      "cell_type": "code",
      "metadata": {
        "colab": {
          "base_uri": "https://localhost:8080/"
        },
        "id": "X8EmO8Orbakt",
        "outputId": "c742b47b-9e13-400b-9ee5-9da1cf969a54"
      },
      "source": [
        "num1=2\n",
        "num2=7\n",
        "print (num2**num1)"
      ],
      "execution_count": null,
      "outputs": [
        {
          "output_type": "stream",
          "text": [
            "49\n"
          ],
          "name": "stdout"
        }
      ]
    },
    {
      "cell_type": "code",
      "metadata": {
        "colab": {
          "base_uri": "https://localhost:8080/"
        },
        "id": "0Mhg9fmaoe3I",
        "outputId": "7e9e3ab9-ac61-4ccb-9946-a04b5b07d86a"
      },
      "source": [
        "y=0\n",
        "for x in range(0,5):\n",
        "    y=y+2\n",
        "    print(y)"
      ],
      "execution_count": null,
      "outputs": [
        {
          "output_type": "stream",
          "text": [
            "2\n",
            "4\n",
            "6\n",
            "8\n",
            "10\n"
          ],
          "name": "stdout"
        }
      ]
    },
    {
      "cell_type": "code",
      "metadata": {
        "colab": {
          "base_uri": "https://localhost:8080/"
        },
        "id": "-n39Uy0O_SUG",
        "outputId": "77438d8a-2d0b-4bf4-9468-133e0f6ce0a7"
      },
      "source": [
        "text = input('Enter something : ')\n",
        "print (text.strip())\n",
        "print (text.split('1'))"
      ],
      "execution_count": null,
      "outputs": [
        {
          "output_type": "stream",
          "text": [
            "Enter something : My name is 1Avichal Jain\n",
            "My name is 1Avichal Jain\n",
            "['My name is ', 'Avichal Jain']\n"
          ],
          "name": "stdout"
        }
      ]
    },
    {
      "cell_type": "code",
      "metadata": {
        "colab": {
          "base_uri": "https://localhost:8080/"
        },
        "id": "6Zwk_R6QfiRD",
        "outputId": "66a88c61-3b43-497b-a2b7-f0bc175d5235"
      },
      "source": [
        "fruits = []\n",
        "for x in range(0,3):\n",
        "    fruits.append(input ('Enter a fruit : '))\n",
        "print (fruits)"
      ],
      "execution_count": null,
      "outputs": [
        {
          "output_type": "stream",
          "text": [
            "Enter a fruit : Apple\n",
            "Enter a fruit : Strawbery\n",
            "Enter a fruit : Blueberry\n",
            "['Apple', 'Strawbery', 'Blueberry']\n"
          ],
          "name": "stdout"
        }
      ]
    },
    {
      "cell_type": "code",
      "metadata": {
        "colab": {
          "base_uri": "https://localhost:8080/"
        },
        "id": "JO839jScnSOD",
        "outputId": "21f5b168-f5e7-40d7-eb81-d130711acdf9"
      },
      "source": [
        "a=set()\n",
        "a.add(10)\n",
        "a.add(20)\n",
        "print(a)\n",
        "a.update([101,102,103])\n",
        "print(a)\n",
        "a.update('Avi')\n",
        "print(a)"
      ],
      "execution_count": null,
      "outputs": [
        {
          "output_type": "stream",
          "text": [
            "{10, 20}\n",
            "{101, 102, 103, 10, 20}\n",
            "{'A', 'v', 101, 102, 103, 'i', 10, 20}\n"
          ],
          "name": "stdout"
        }
      ]
    },
    {
      "cell_type": "code",
      "metadata": {
        "colab": {
          "base_uri": "https://localhost:8080/"
        },
        "id": "CkNeiJIIZaMJ",
        "outputId": "47b0885a-257b-4278-88dd-a94952f49dd4"
      },
      "source": [
        "a={1,3,5,7,9}\n",
        "for i in a:\n",
        "    print(i, end='')"
      ],
      "execution_count": null,
      "outputs": [
        {
          "output_type": "stream",
          "text": [
            "13579"
          ],
          "name": "stdout"
        }
      ]
    },
    {
      "cell_type": "code",
      "metadata": {
        "colab": {
          "base_uri": "https://localhost:8080/"
        },
        "id": "ivRgRJDukoyV",
        "outputId": "6ee6c998-ca46-4ead-c422-7a27737b6b08"
      },
      "source": [
        "a= {'course':'Python', 'fees': 15000 , 1: {'course':'Java script', 'fees': 10000 }}\n",
        "for i in a:\n",
        "    print(i)\n",
        "for j in a[1]:\n",
        "       print(j)"
      ],
      "execution_count": null,
      "outputs": [
        {
          "output_type": "stream",
          "text": [
            "course\n",
            "fees\n",
            "1\n",
            "course\n",
            "fees\n"
          ],
          "name": "stdout"
        }
      ]
    },
    {
      "cell_type": "code",
      "metadata": {
        "colab": {
          "base_uri": "https://localhost:8080/"
        },
        "id": "42EklYPP9wOe",
        "outputId": "0fa7f12d-4f0a-4720-9022-dafd377cccf0"
      },
      "source": [
        "from array import *\n",
        "marks = array('i', [95,95,97,98,99])\n",
        "print ('Before insertion : ', end=' ')\n",
        "for i in range(5):\n",
        "    print(marks[i], end=' ')\n",
        "print()\n",
        "marks.insert(2,0)\n",
        "print ('After insertion : ', end=' ')\n",
        "for i in range(6):\n",
        "    print(marks[i], end=' ')"
      ],
      "execution_count": null,
      "outputs": [
        {
          "output_type": "stream",
          "text": [
            "Before insertion :  95 95 97 98 99 \n",
            "After insertion :  95 95 0 97 98 99 "
          ],
          "name": "stdout"
        }
      ]
    },
    {
      "cell_type": "code",
      "metadata": {
        "colab": {
          "base_uri": "https://localhost:8080/"
        },
        "id": "8TMs920GBnIj",
        "outputId": "c2ea818d-4f5d-45a1-ac05-e3cca5c50b48"
      },
      "source": [
        "from array import *\n",
        "marks = array('i', [95,95,97,98,99])\n",
        "print (marks[2:4])\n",
        "print(marks[::-1])"
      ],
      "execution_count": null,
      "outputs": [
        {
          "output_type": "stream",
          "text": [
            "array('i', [97, 98])\n",
            "array('i', [99, 98, 97, 95, 95])\n"
          ],
          "name": "stdout"
        }
      ]
    },
    {
      "cell_type": "code",
      "metadata": {
        "colab": {
          "base_uri": "https://localhost:8080/"
        },
        "id": "slkmIj7kFbzR",
        "outputId": "5a5e3e6b-a584-4964-e26e-a798bafd8d8c"
      },
      "source": [
        "import numpy\n",
        "a=numpy.array([1,2,3])\n",
        "print(a)\n",
        "print(a[2])\n",
        "print(numpy.arange(2,7))\n",
        "l = range(2,7,2)\n",
        "print(l,l[1])"
      ],
      "execution_count": null,
      "outputs": [
        {
          "output_type": "stream",
          "text": [
            "[1 2 3]\n",
            "3\n",
            "[2 3 4 5 6]\n",
            "range(2, 7, 2) 4\n"
          ],
          "name": "stdout"
        }
      ]
    }
  ]
}